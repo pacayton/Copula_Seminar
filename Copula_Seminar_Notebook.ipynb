{
  "nbformat": 4,
  "nbformat_minor": 0,
  "metadata": {
    "colab": {
      "provenance": [],
      "authorship_tag": "ABX9TyMHes+yRtXGH8Xh7DeNus/Q",
      "include_colab_link": true
    },
    "kernelspec": {
      "name": "python3",
      "display_name": "Python 3"
    },
    "language_info": {
      "name": "python"
    }
  },
  "cells": [
    {
      "cell_type": "markdown",
      "metadata": {
        "id": "view-in-github",
        "colab_type": "text"
      },
      "source": [
        "<a href=\"https://colab.research.google.com/github/pacayton/Copula_Seminar/blob/main/Copula_Seminar_Notebook.ipynb\" target=\"_parent\"><img src=\"https://colab.research.google.com/assets/colab-badge.svg\" alt=\"Open In Colab\"/></a>"
      ]
    },
    {
      "cell_type": "markdown",
      "source": [
        "# Introduction to Copulas and Applications in Finance\n",
        "$$\\quad$$\n",
        "#### Assoc Prof Peter Julian Cayton, PhD\n",
        "#### Member, Mathematical Statistics Research Group\n",
        "#### Chair, Forecasting, Econometrics, and Time Series Research Group\n",
        "#### School of Statistics\n",
        "#### University of the Philippines Diliman\n",
        "#### [Google Scholar](https://scholar.google.com/citations?user=KtH_mGEAAAAJ), [LinkedIn](https://www.linkedin.com/in/peter-julian-cayton-90a0a524/), [X (formerly Twitter)](https://twitter.com/PJACaytonPhD)"
      ],
      "metadata": {
        "id": "Vt4-OUEcdp8E"
      }
    },
    {
      "cell_type": "code",
      "execution_count": null,
      "metadata": {
        "id": "7okn6ypacmUY"
      },
      "outputs": [],
      "source": []
    }
  ]
}